{
  "nbformat": 4,
  "nbformat_minor": 0,
  "metadata": {
    "colab": {
      "name": "20_AratiYadav_NLP - Task 1.ipynb",
      "provenance": [],
      "collapsed_sections": []
    },
    "kernelspec": {
      "name": "python3",
      "display_name": "Python 3"
    },
    "language_info": {
      "name": "python"
    }
  },
  "cells": [
    {
      "cell_type": "markdown",
      "metadata": {
        "id": "UHmrYMDvCI5i"
      },
      "source": [
        "Text:\n",
        "\n",
        "The Department of Information Technology at Ramniranjan Jhunjhunwala College, Ghatkopar, Mumbai was established in 2007. The Department offers both undergraduate (B.Sc. IT) and postgraduate (M.Sc. IT) programmes. The M.Sc IT programme was introduced in the year 2016.\n",
        "\n",
        "Using Given Text, Solve the following questions:\n"
      ]
    },
    {
      "cell_type": "markdown",
      "metadata": {
        "id": "IM6Yy3UPL4Dh"
      },
      "source": [
        "1. Tokenize the given text into sentences and words."
      ]
    },
    {
      "cell_type": "code",
      "metadata": {
        "colab": {
          "base_uri": "https://localhost:8080/"
        },
        "id": "hDakgU2lL6er",
        "outputId": "2083b400-c872-445e-db8f-2cf18719f086"
      },
      "source": [
        "pip install nltk"
      ],
      "execution_count": 1,
      "outputs": [
        {
          "output_type": "stream",
          "text": [
            "Requirement already satisfied: nltk in /usr/local/lib/python3.7/dist-packages (3.2.5)\n",
            "Requirement already satisfied: six in /usr/local/lib/python3.7/dist-packages (from nltk) (1.15.0)\n"
          ],
          "name": "stdout"
        }
      ]
    },
    {
      "cell_type": "code",
      "metadata": {
        "colab": {
          "base_uri": "https://localhost:8080/"
        },
        "id": "QRaq5_xcMA9J",
        "outputId": "a703aba2-c971-4dc3-ba72-fba8b17845a3"
      },
      "source": [
        "import nltk\n",
        "nltk.download(\"all\")"
      ],
      "execution_count": 2,
      "outputs": [
        {
          "output_type": "stream",
          "text": [
            "[nltk_data] Downloading collection 'all'\n",
            "[nltk_data]    | \n",
            "[nltk_data]    | Downloading package abc to /root/nltk_data...\n",
            "[nltk_data]    |   Unzipping corpora/abc.zip.\n",
            "[nltk_data]    | Downloading package alpino to /root/nltk_data...\n",
            "[nltk_data]    |   Unzipping corpora/alpino.zip.\n",
            "[nltk_data]    | Downloading package biocreative_ppi to\n",
            "[nltk_data]    |     /root/nltk_data...\n",
            "[nltk_data]    |   Unzipping corpora/biocreative_ppi.zip.\n",
            "[nltk_data]    | Downloading package brown to /root/nltk_data...\n",
            "[nltk_data]    |   Unzipping corpora/brown.zip.\n",
            "[nltk_data]    | Downloading package brown_tei to /root/nltk_data...\n",
            "[nltk_data]    |   Unzipping corpora/brown_tei.zip.\n",
            "[nltk_data]    | Downloading package cess_cat to /root/nltk_data...\n",
            "[nltk_data]    |   Unzipping corpora/cess_cat.zip.\n",
            "[nltk_data]    | Downloading package cess_esp to /root/nltk_data...\n",
            "[nltk_data]    |   Unzipping corpora/cess_esp.zip.\n",
            "[nltk_data]    | Downloading package chat80 to /root/nltk_data...\n",
            "[nltk_data]    |   Unzipping corpora/chat80.zip.\n",
            "[nltk_data]    | Downloading package city_database to\n",
            "[nltk_data]    |     /root/nltk_data...\n",
            "[nltk_data]    |   Unzipping corpora/city_database.zip.\n",
            "[nltk_data]    | Downloading package cmudict to /root/nltk_data...\n",
            "[nltk_data]    |   Unzipping corpora/cmudict.zip.\n",
            "[nltk_data]    | Downloading package comparative_sentences to\n",
            "[nltk_data]    |     /root/nltk_data...\n",
            "[nltk_data]    |   Unzipping corpora/comparative_sentences.zip.\n",
            "[nltk_data]    | Downloading package comtrans to /root/nltk_data...\n",
            "[nltk_data]    | Downloading package conll2000 to /root/nltk_data...\n",
            "[nltk_data]    |   Unzipping corpora/conll2000.zip.\n",
            "[nltk_data]    | Downloading package conll2002 to /root/nltk_data...\n",
            "[nltk_data]    |   Unzipping corpora/conll2002.zip.\n",
            "[nltk_data]    | Downloading package conll2007 to /root/nltk_data...\n",
            "[nltk_data]    | Downloading package crubadan to /root/nltk_data...\n",
            "[nltk_data]    |   Unzipping corpora/crubadan.zip.\n",
            "[nltk_data]    | Downloading package dependency_treebank to\n",
            "[nltk_data]    |     /root/nltk_data...\n",
            "[nltk_data]    |   Unzipping corpora/dependency_treebank.zip.\n",
            "[nltk_data]    | Downloading package dolch to /root/nltk_data...\n",
            "[nltk_data]    |   Unzipping corpora/dolch.zip.\n",
            "[nltk_data]    | Downloading package europarl_raw to\n",
            "[nltk_data]    |     /root/nltk_data...\n",
            "[nltk_data]    |   Unzipping corpora/europarl_raw.zip.\n",
            "[nltk_data]    | Downloading package floresta to /root/nltk_data...\n",
            "[nltk_data]    |   Unzipping corpora/floresta.zip.\n",
            "[nltk_data]    | Downloading package framenet_v15 to\n",
            "[nltk_data]    |     /root/nltk_data...\n",
            "[nltk_data]    |   Unzipping corpora/framenet_v15.zip.\n",
            "[nltk_data]    | Downloading package framenet_v17 to\n",
            "[nltk_data]    |     /root/nltk_data...\n",
            "[nltk_data]    |   Unzipping corpora/framenet_v17.zip.\n",
            "[nltk_data]    | Downloading package gazetteers to /root/nltk_data...\n",
            "[nltk_data]    |   Unzipping corpora/gazetteers.zip.\n",
            "[nltk_data]    | Downloading package genesis to /root/nltk_data...\n",
            "[nltk_data]    |   Unzipping corpora/genesis.zip.\n",
            "[nltk_data]    | Downloading package gutenberg to /root/nltk_data...\n",
            "[nltk_data]    |   Unzipping corpora/gutenberg.zip.\n",
            "[nltk_data]    | Downloading package ieer to /root/nltk_data...\n",
            "[nltk_data]    |   Unzipping corpora/ieer.zip.\n",
            "[nltk_data]    | Downloading package inaugural to /root/nltk_data...\n",
            "[nltk_data]    |   Unzipping corpora/inaugural.zip.\n",
            "[nltk_data]    | Downloading package indian to /root/nltk_data...\n",
            "[nltk_data]    |   Unzipping corpora/indian.zip.\n",
            "[nltk_data]    | Downloading package jeita to /root/nltk_data...\n",
            "[nltk_data]    | Downloading package kimmo to /root/nltk_data...\n",
            "[nltk_data]    |   Unzipping corpora/kimmo.zip.\n",
            "[nltk_data]    | Downloading package knbc to /root/nltk_data...\n",
            "[nltk_data]    | Downloading package lin_thesaurus to\n",
            "[nltk_data]    |     /root/nltk_data...\n",
            "[nltk_data]    |   Unzipping corpora/lin_thesaurus.zip.\n",
            "[nltk_data]    | Downloading package mac_morpho to /root/nltk_data...\n",
            "[nltk_data]    |   Unzipping corpora/mac_morpho.zip.\n",
            "[nltk_data]    | Downloading package machado to /root/nltk_data...\n",
            "[nltk_data]    | Downloading package masc_tagged to /root/nltk_data...\n",
            "[nltk_data]    | Downloading package moses_sample to\n",
            "[nltk_data]    |     /root/nltk_data...\n",
            "[nltk_data]    |   Unzipping models/moses_sample.zip.\n",
            "[nltk_data]    | Downloading package movie_reviews to\n",
            "[nltk_data]    |     /root/nltk_data...\n",
            "[nltk_data]    |   Unzipping corpora/movie_reviews.zip.\n",
            "[nltk_data]    | Downloading package names to /root/nltk_data...\n",
            "[nltk_data]    |   Unzipping corpora/names.zip.\n",
            "[nltk_data]    | Downloading package nombank.1.0 to /root/nltk_data...\n",
            "[nltk_data]    | Downloading package nps_chat to /root/nltk_data...\n",
            "[nltk_data]    |   Unzipping corpora/nps_chat.zip.\n",
            "[nltk_data]    | Downloading package omw to /root/nltk_data...\n",
            "[nltk_data]    |   Unzipping corpora/omw.zip.\n",
            "[nltk_data]    | Downloading package opinion_lexicon to\n",
            "[nltk_data]    |     /root/nltk_data...\n",
            "[nltk_data]    |   Unzipping corpora/opinion_lexicon.zip.\n",
            "[nltk_data]    | Downloading package paradigms to /root/nltk_data...\n",
            "[nltk_data]    |   Unzipping corpora/paradigms.zip.\n",
            "[nltk_data]    | Downloading package pil to /root/nltk_data...\n",
            "[nltk_data]    |   Unzipping corpora/pil.zip.\n",
            "[nltk_data]    | Downloading package pl196x to /root/nltk_data...\n",
            "[nltk_data]    |   Unzipping corpora/pl196x.zip.\n",
            "[nltk_data]    | Downloading package ppattach to /root/nltk_data...\n",
            "[nltk_data]    |   Unzipping corpora/ppattach.zip.\n",
            "[nltk_data]    | Downloading package problem_reports to\n",
            "[nltk_data]    |     /root/nltk_data...\n",
            "[nltk_data]    |   Unzipping corpora/problem_reports.zip.\n",
            "[nltk_data]    | Downloading package propbank to /root/nltk_data...\n",
            "[nltk_data]    | Downloading package ptb to /root/nltk_data...\n",
            "[nltk_data]    |   Unzipping corpora/ptb.zip.\n",
            "[nltk_data]    | Downloading package product_reviews_1 to\n",
            "[nltk_data]    |     /root/nltk_data...\n",
            "[nltk_data]    |   Unzipping corpora/product_reviews_1.zip.\n",
            "[nltk_data]    | Downloading package product_reviews_2 to\n",
            "[nltk_data]    |     /root/nltk_data...\n",
            "[nltk_data]    |   Unzipping corpora/product_reviews_2.zip.\n",
            "[nltk_data]    | Downloading package pros_cons to /root/nltk_data...\n",
            "[nltk_data]    |   Unzipping corpora/pros_cons.zip.\n",
            "[nltk_data]    | Downloading package qc to /root/nltk_data...\n",
            "[nltk_data]    |   Unzipping corpora/qc.zip.\n",
            "[nltk_data]    | Downloading package reuters to /root/nltk_data...\n",
            "[nltk_data]    | Downloading package rte to /root/nltk_data...\n",
            "[nltk_data]    |   Unzipping corpora/rte.zip.\n",
            "[nltk_data]    | Downloading package semcor to /root/nltk_data...\n",
            "[nltk_data]    | Downloading package senseval to /root/nltk_data...\n",
            "[nltk_data]    |   Unzipping corpora/senseval.zip.\n",
            "[nltk_data]    | Downloading package sentiwordnet to\n",
            "[nltk_data]    |     /root/nltk_data...\n",
            "[nltk_data]    |   Unzipping corpora/sentiwordnet.zip.\n",
            "[nltk_data]    | Downloading package sentence_polarity to\n",
            "[nltk_data]    |     /root/nltk_data...\n",
            "[nltk_data]    |   Unzipping corpora/sentence_polarity.zip.\n",
            "[nltk_data]    | Downloading package shakespeare to /root/nltk_data...\n",
            "[nltk_data]    |   Unzipping corpora/shakespeare.zip.\n",
            "[nltk_data]    | Downloading package sinica_treebank to\n",
            "[nltk_data]    |     /root/nltk_data...\n",
            "[nltk_data]    |   Unzipping corpora/sinica_treebank.zip.\n",
            "[nltk_data]    | Downloading package smultron to /root/nltk_data...\n",
            "[nltk_data]    |   Unzipping corpora/smultron.zip.\n",
            "[nltk_data]    | Downloading package state_union to /root/nltk_data...\n",
            "[nltk_data]    |   Unzipping corpora/state_union.zip.\n",
            "[nltk_data]    | Downloading package stopwords to /root/nltk_data...\n",
            "[nltk_data]    |   Unzipping corpora/stopwords.zip.\n",
            "[nltk_data]    | Downloading package subjectivity to\n",
            "[nltk_data]    |     /root/nltk_data...\n",
            "[nltk_data]    |   Unzipping corpora/subjectivity.zip.\n",
            "[nltk_data]    | Downloading package swadesh to /root/nltk_data...\n",
            "[nltk_data]    |   Unzipping corpora/swadesh.zip.\n",
            "[nltk_data]    | Downloading package switchboard to /root/nltk_data...\n",
            "[nltk_data]    |   Unzipping corpora/switchboard.zip.\n",
            "[nltk_data]    | Downloading package timit to /root/nltk_data...\n",
            "[nltk_data]    |   Unzipping corpora/timit.zip.\n",
            "[nltk_data]    | Downloading package toolbox to /root/nltk_data...\n",
            "[nltk_data]    |   Unzipping corpora/toolbox.zip.\n",
            "[nltk_data]    | Downloading package treebank to /root/nltk_data...\n",
            "[nltk_data]    |   Unzipping corpora/treebank.zip.\n",
            "[nltk_data]    | Downloading package twitter_samples to\n",
            "[nltk_data]    |     /root/nltk_data...\n",
            "[nltk_data]    |   Unzipping corpora/twitter_samples.zip.\n",
            "[nltk_data]    | Downloading package udhr to /root/nltk_data...\n",
            "[nltk_data]    |   Unzipping corpora/udhr.zip.\n",
            "[nltk_data]    | Downloading package udhr2 to /root/nltk_data...\n",
            "[nltk_data]    |   Unzipping corpora/udhr2.zip.\n",
            "[nltk_data]    | Downloading package unicode_samples to\n",
            "[nltk_data]    |     /root/nltk_data...\n",
            "[nltk_data]    |   Unzipping corpora/unicode_samples.zip.\n",
            "[nltk_data]    | Downloading package universal_treebanks_v20 to\n",
            "[nltk_data]    |     /root/nltk_data...\n",
            "[nltk_data]    | Downloading package verbnet to /root/nltk_data...\n",
            "[nltk_data]    |   Unzipping corpora/verbnet.zip.\n",
            "[nltk_data]    | Downloading package verbnet3 to /root/nltk_data...\n",
            "[nltk_data]    |   Unzipping corpora/verbnet3.zip.\n",
            "[nltk_data]    | Downloading package webtext to /root/nltk_data...\n",
            "[nltk_data]    |   Unzipping corpora/webtext.zip.\n",
            "[nltk_data]    | Downloading package wordnet to /root/nltk_data...\n",
            "[nltk_data]    |   Unzipping corpora/wordnet.zip.\n",
            "[nltk_data]    | Downloading package wordnet_ic to /root/nltk_data...\n",
            "[nltk_data]    |   Unzipping corpora/wordnet_ic.zip.\n",
            "[nltk_data]    | Downloading package words to /root/nltk_data...\n",
            "[nltk_data]    |   Unzipping corpora/words.zip.\n",
            "[nltk_data]    | Downloading package ycoe to /root/nltk_data...\n",
            "[nltk_data]    |   Unzipping corpora/ycoe.zip.\n",
            "[nltk_data]    | Downloading package rslp to /root/nltk_data...\n",
            "[nltk_data]    |   Unzipping stemmers/rslp.zip.\n",
            "[nltk_data]    | Downloading package maxent_treebank_pos_tagger to\n",
            "[nltk_data]    |     /root/nltk_data...\n",
            "[nltk_data]    |   Unzipping taggers/maxent_treebank_pos_tagger.zip.\n",
            "[nltk_data]    | Downloading package universal_tagset to\n",
            "[nltk_data]    |     /root/nltk_data...\n",
            "[nltk_data]    |   Unzipping taggers/universal_tagset.zip.\n",
            "[nltk_data]    | Downloading package maxent_ne_chunker to\n",
            "[nltk_data]    |     /root/nltk_data...\n",
            "[nltk_data]    |   Unzipping chunkers/maxent_ne_chunker.zip.\n",
            "[nltk_data]    | Downloading package punkt to /root/nltk_data...\n",
            "[nltk_data]    |   Unzipping tokenizers/punkt.zip.\n",
            "[nltk_data]    | Downloading package book_grammars to\n",
            "[nltk_data]    |     /root/nltk_data...\n",
            "[nltk_data]    |   Unzipping grammars/book_grammars.zip.\n",
            "[nltk_data]    | Downloading package sample_grammars to\n",
            "[nltk_data]    |     /root/nltk_data...\n",
            "[nltk_data]    |   Unzipping grammars/sample_grammars.zip.\n",
            "[nltk_data]    | Downloading package spanish_grammars to\n",
            "[nltk_data]    |     /root/nltk_data...\n",
            "[nltk_data]    |   Unzipping grammars/spanish_grammars.zip.\n",
            "[nltk_data]    | Downloading package basque_grammars to\n",
            "[nltk_data]    |     /root/nltk_data...\n",
            "[nltk_data]    |   Unzipping grammars/basque_grammars.zip.\n",
            "[nltk_data]    | Downloading package large_grammars to\n",
            "[nltk_data]    |     /root/nltk_data...\n",
            "[nltk_data]    |   Unzipping grammars/large_grammars.zip.\n",
            "[nltk_data]    | Downloading package tagsets to /root/nltk_data...\n",
            "[nltk_data]    |   Unzipping help/tagsets.zip.\n",
            "[nltk_data]    | Downloading package snowball_data to\n",
            "[nltk_data]    |     /root/nltk_data...\n",
            "[nltk_data]    | Downloading package bllip_wsj_no_aux to\n",
            "[nltk_data]    |     /root/nltk_data...\n",
            "[nltk_data]    |   Unzipping models/bllip_wsj_no_aux.zip.\n",
            "[nltk_data]    | Downloading package word2vec_sample to\n",
            "[nltk_data]    |     /root/nltk_data...\n",
            "[nltk_data]    |   Unzipping models/word2vec_sample.zip.\n",
            "[nltk_data]    | Downloading package panlex_swadesh to\n",
            "[nltk_data]    |     /root/nltk_data...\n",
            "[nltk_data]    | Downloading package mte_teip5 to /root/nltk_data...\n",
            "[nltk_data]    |   Unzipping corpora/mte_teip5.zip.\n",
            "[nltk_data]    | Downloading package averaged_perceptron_tagger to\n",
            "[nltk_data]    |     /root/nltk_data...\n",
            "[nltk_data]    |   Unzipping taggers/averaged_perceptron_tagger.zip.\n",
            "[nltk_data]    | Downloading package averaged_perceptron_tagger_ru to\n",
            "[nltk_data]    |     /root/nltk_data...\n",
            "[nltk_data]    |   Unzipping\n",
            "[nltk_data]    |       taggers/averaged_perceptron_tagger_ru.zip.\n",
            "[nltk_data]    | Downloading package perluniprops to\n",
            "[nltk_data]    |     /root/nltk_data...\n",
            "[nltk_data]    |   Unzipping misc/perluniprops.zip.\n",
            "[nltk_data]    | Downloading package nonbreaking_prefixes to\n",
            "[nltk_data]    |     /root/nltk_data...\n",
            "[nltk_data]    |   Unzipping corpora/nonbreaking_prefixes.zip.\n",
            "[nltk_data]    | Downloading package vader_lexicon to\n",
            "[nltk_data]    |     /root/nltk_data...\n",
            "[nltk_data]    | Downloading package porter_test to /root/nltk_data...\n",
            "[nltk_data]    |   Unzipping stemmers/porter_test.zip.\n",
            "[nltk_data]    | Downloading package wmt15_eval to /root/nltk_data...\n",
            "[nltk_data]    |   Unzipping models/wmt15_eval.zip.\n",
            "[nltk_data]    | Downloading package mwa_ppdb to /root/nltk_data...\n",
            "[nltk_data]    |   Unzipping misc/mwa_ppdb.zip.\n",
            "[nltk_data]    | \n",
            "[nltk_data]  Done downloading collection all\n"
          ],
          "name": "stdout"
        },
        {
          "output_type": "execute_result",
          "data": {
            "text/plain": [
              "True"
            ]
          },
          "metadata": {
            "tags": []
          },
          "execution_count": 2
        }
      ]
    },
    {
      "cell_type": "code",
      "metadata": {
        "colab": {
          "base_uri": "https://localhost:8080/"
        },
        "id": "XYDLNddpMUEZ",
        "outputId": "4cc44374-ebda-41bd-e9ab-a433da6be843"
      },
      "source": [
        "from nltk.tokenize import sent_tokenize, word_tokenize\n",
        "\n",
        "text = \"The Department of Information Technology at \" + \\\n",
        "       \"Ramniranjan Jhunjhunwala College, Ghatkopar,\" + \\\n",
        "       \" Mumbai was established in 2007. \" + \\\n",
        "       \"The Department offers both undergraduate (B.Sc. IT) \" + \\\n",
        "       \"and postgraduate (M.Sc. IT) programmes.\" + \\\n",
        "      \"The M.Sc IT programme was introduced in the year 2016.\" \n",
        "\n",
        "print(sent_tokenize(text))\n",
        "\n",
        "print(word_tokenize(text))"
      ],
      "execution_count": 3,
      "outputs": [
        {
          "output_type": "stream",
          "text": [
            "['The Department of Information Technology at Ramniranjan Jhunjhunwala College, Ghatkopar, Mumbai was established in 2007.', 'The Department offers both undergraduate (B.Sc.', 'IT) and postgraduate (M.Sc.', 'IT) programmes.The M.Sc IT programme was introduced in the year 2016.']\n",
            "['The', 'Department', 'of', 'Information', 'Technology', 'at', 'Ramniranjan', 'Jhunjhunwala', 'College', ',', 'Ghatkopar', ',', 'Mumbai', 'was', 'established', 'in', '2007', '.', 'The', 'Department', 'offers', 'both', 'undergraduate', '(', 'B.Sc', '.', 'IT', ')', 'and', 'postgraduate', '(', 'M.Sc', '.', 'IT', ')', 'programmes.The', 'M.Sc', 'IT', 'programme', 'was', 'introduced', 'in', 'the', 'year', '2016', '.']\n"
          ],
          "name": "stdout"
        }
      ]
    },
    {
      "cell_type": "markdown",
      "metadata": {
        "id": "vZlo5h4jMW1k"
      },
      "source": [
        "2. Pos tag each word to display its grammatical information"
      ]
    },
    {
      "cell_type": "code",
      "metadata": {
        "colab": {
          "base_uri": "https://localhost:8080/"
        },
        "id": "S6CxCVtpMb7x",
        "outputId": "85d8d688-143b-4e8f-9797-864802d6afb5"
      },
      "source": [
        "import nltk\n",
        "import string\n",
        "import re\n",
        "\n",
        "nltk.download(\"punkt\")\n",
        "nltk.download(\"averaged_perceptron_tagger\")"
      ],
      "execution_count": 4,
      "outputs": [
        {
          "output_type": "stream",
          "text": [
            "[nltk_data] Downloading package punkt to /root/nltk_data...\n",
            "[nltk_data]   Package punkt is already up-to-date!\n",
            "[nltk_data] Downloading package averaged_perceptron_tagger to\n",
            "[nltk_data]     /root/nltk_data...\n",
            "[nltk_data]   Package averaged_perceptron_tagger is already up-to-\n",
            "[nltk_data]       date!\n"
          ],
          "name": "stdout"
        },
        {
          "output_type": "execute_result",
          "data": {
            "text/plain": [
              "True"
            ]
          },
          "metadata": {
            "tags": []
          },
          "execution_count": 4
        }
      ]
    },
    {
      "cell_type": "code",
      "metadata": {
        "colab": {
          "base_uri": "https://localhost:8080/"
        },
        "id": "joeHUl9yMhjX",
        "outputId": "9beba4ae-c83a-4bcd-f1fd-001ac5f1c85b"
      },
      "source": [
        "from nltk.tokenize import word_tokenize\n",
        "from nltk import pos_tag\n",
        "  \n",
        "# convert text into word_tokens with their tags\n",
        "def pos_tagging(text):\n",
        "    word_tokens = word_tokenize(text)\n",
        "    return pos_tag(word_tokens)\n",
        "  \n",
        "pos_tagging('The Department of Information Technology at Ramniranjan Jhunjhunwala College, Ghatkopar, Mumbai was established in 2007.')\n",
        "#PRP stands for personal pronoun, RB for adverb, VBD for verb past tense, DT for determiner and NN for noun, NNP for Proper nouns, IN for Information, CD for Concrete Detail."
      ],
      "execution_count": 5,
      "outputs": [
        {
          "output_type": "execute_result",
          "data": {
            "text/plain": [
              "[('The', 'DT'),\n",
              " ('Department', 'NNP'),\n",
              " ('of', 'IN'),\n",
              " ('Information', 'NNP'),\n",
              " ('Technology', 'NNP'),\n",
              " ('at', 'IN'),\n",
              " ('Ramniranjan', 'NNP'),\n",
              " ('Jhunjhunwala', 'NNP'),\n",
              " ('College', 'NNP'),\n",
              " (',', ','),\n",
              " ('Ghatkopar', 'NNP'),\n",
              " (',', ','),\n",
              " ('Mumbai', 'NNP'),\n",
              " ('was', 'VBD'),\n",
              " ('established', 'VBN'),\n",
              " ('in', 'IN'),\n",
              " ('2007', 'CD'),\n",
              " ('.', '.')]"
            ]
          },
          "metadata": {
            "tags": []
          },
          "execution_count": 5
        }
      ]
    },
    {
      "cell_type": "markdown",
      "metadata": {
        "id": "pGQvk4TiKRRw"
      },
      "source": [
        "3. Apply chunking to extract the following sentence from the given text.\n",
        "The Department offers both undergraduate (B.Sc. IT) and postgraduate (M.Sc. IT) programmes.\n"
      ]
    },
    {
      "cell_type": "code",
      "metadata": {
        "colab": {
          "base_uri": "https://localhost:8080/"
        },
        "id": "FwXkp-phKRFf",
        "outputId": "de9c7c8e-f1ff-4ae6-b055-d304a9bb6e8e"
      },
      "source": [
        "import nltk\n",
        "nltk.download('punkt')"
      ],
      "execution_count": 6,
      "outputs": [
        {
          "output_type": "stream",
          "text": [
            "[nltk_data] Downloading package punkt to /root/nltk_data...\n",
            "[nltk_data]   Package punkt is already up-to-date!\n"
          ],
          "name": "stdout"
        },
        {
          "output_type": "execute_result",
          "data": {
            "text/plain": [
              "True"
            ]
          },
          "metadata": {
            "tags": []
          },
          "execution_count": 6
        }
      ]
    },
    {
      "cell_type": "code",
      "metadata": {
        "colab": {
          "base_uri": "https://localhost:8080/"
        },
        "id": "oB25NI34KRCd",
        "outputId": "35c11c01-9c7e-453e-d449-fccbe3c9a884"
      },
      "source": [
        "import nltk\n",
        "nltk.download('averaged_perceptron_tagger')"
      ],
      "execution_count": 7,
      "outputs": [
        {
          "output_type": "stream",
          "text": [
            "[nltk_data] Downloading package averaged_perceptron_tagger to\n",
            "[nltk_data]     /root/nltk_data...\n",
            "[nltk_data]   Package averaged_perceptron_tagger is already up-to-\n",
            "[nltk_data]       date!\n"
          ],
          "name": "stdout"
        },
        {
          "output_type": "execute_result",
          "data": {
            "text/plain": [
              "True"
            ]
          },
          "metadata": {
            "tags": []
          },
          "execution_count": 7
        }
      ]
    },
    {
      "cell_type": "code",
      "metadata": {
        "id": "RraeC94cKQ25"
      },
      "source": [
        "from nltk.tokenize import word_tokenize \n",
        "from nltk import pos_tag\n",
        "from nltk import RegexpParser"
      ],
      "execution_count": 8,
      "outputs": []
    },
    {
      "cell_type": "code",
      "metadata": {
        "id": "HGia4Vn2Kh8k"
      },
      "source": [
        "sentence = \"The Department offers both undergraduate (B.Sc. IT) and postgraduate (M.Sc. IT) programmes.\""
      ],
      "execution_count": 9,
      "outputs": []
    },
    {
      "cell_type": "code",
      "metadata": {
        "id": "0BzjnrhSKhvE"
      },
      "source": [
        "grammar = ('''\n",
        "    NP: {<DT>?<JJ>*<NN>} # NP\n",
        "    ''')"
      ],
      "execution_count": 10,
      "outputs": []
    },
    {
      "cell_type": "code",
      "metadata": {
        "colab": {
          "base_uri": "https://localhost:8080/"
        },
        "id": "9kiwCqulKpO0",
        "outputId": "1b6ed122-79c2-40c8-9268-b59d1b598e7f"
      },
      "source": [
        "def chunking(text, grammar):\n",
        "    word_tokens = word_tokenize(sentence)\n",
        "  \n",
        "    # label words with part of speech\n",
        "    word_pos = pos_tag(word_tokens)\n",
        "  \n",
        "    # create a chunk parser using grammar\n",
        "    chunkParser = nltk.RegexpParser(grammar)\n",
        "  \n",
        "    # test it on the list of word tokens with tagged pos\n",
        "    tree = chunkParser.parse(word_pos)\n",
        "      \n",
        "    for subtree in tree.subtrees():\n",
        "        print(subtree)\n",
        "chunking(sentence, grammar)"
      ],
      "execution_count": 11,
      "outputs": [
        {
          "output_type": "stream",
          "text": [
            "(S\n",
            "  The/DT\n",
            "  Department/NNP\n",
            "  offers/VBZ\n",
            "  (NP both/DT undergraduate/NN)\n",
            "  (/(\n",
            "  B.Sc/NNP\n",
            "  ./.\n",
            "  IT/NNP\n",
            "  )/)\n",
            "  and/CC\n",
            "  (NP postgraduate/NN)\n",
            "  (/(\n",
            "  M.Sc/NNP\n",
            "  ./.\n",
            "  IT/NNP\n",
            "  )/)\n",
            "  programmes/VBZ\n",
            "  ./.)\n",
            "(NP both/DT undergraduate/NN)\n",
            "(NP postgraduate/NN)\n"
          ],
          "name": "stdout"
        }
      ]
    },
    {
      "cell_type": "markdown",
      "metadata": {
        "id": "D8outDzqKvZM"
      },
      "source": [
        "4. After chunking (Q. 4), POS tag the sentence and search for the information about programs B.Sc. IT and M.Sc. IT using POS taggers and Regular Expression."
      ]
    },
    {
      "cell_type": "code",
      "metadata": {
        "id": "WgZ8pwJjKv3N"
      },
      "source": [
        "def pos_tagging(text):\n",
        "    word_tokens = word_tokenize(text)\n",
        "    return pos_tag(word_tokens)"
      ],
      "execution_count": 12,
      "outputs": []
    },
    {
      "cell_type": "code",
      "metadata": {
        "colab": {
          "base_uri": "https://localhost:8080/"
        },
        "id": "2A0pG0SFK4Xz",
        "outputId": "5244f5f3-45b9-4ab6-ad01-c7801b8532c3"
      },
      "source": [
        "pos_tagging('the information about programs B.Sc. IT and M.Sc. IT')"
      ],
      "execution_count": 13,
      "outputs": [
        {
          "output_type": "execute_result",
          "data": {
            "text/plain": [
              "[('the', 'DT'),\n",
              " ('information', 'NN'),\n",
              " ('about', 'IN'),\n",
              " ('programs', 'NNS'),\n",
              " ('B.Sc', 'NNP'),\n",
              " ('.', '.'),\n",
              " ('IT', 'NNP'),\n",
              " ('and', 'CC'),\n",
              " ('M.Sc', 'NNP'),\n",
              " ('.', '.'),\n",
              " ('IT', 'NNP')]"
            ]
          },
          "metadata": {
            "tags": []
          },
          "execution_count": 13
        }
      ]
    },
    {
      "cell_type": "code",
      "metadata": {
        "colab": {
          "base_uri": "https://localhost:8080/"
        },
        "id": "eAEUkhfLK4HG",
        "outputId": "cb7e1542-884a-419d-b0cc-631d8a5c4362"
      },
      "source": [
        "chunkParser = nltk.RegexpParser(grammar)\n",
        "tagged = nltk.pos_tag(nltk.word_tokenize(sentence))\n",
        "tagged"
      ],
      "execution_count": 14,
      "outputs": [
        {
          "output_type": "execute_result",
          "data": {
            "text/plain": [
              "[('The', 'DT'),\n",
              " ('Department', 'NNP'),\n",
              " ('offers', 'VBZ'),\n",
              " ('both', 'DT'),\n",
              " ('undergraduate', 'NN'),\n",
              " ('(', '('),\n",
              " ('B.Sc', 'NNP'),\n",
              " ('.', '.'),\n",
              " ('IT', 'NNP'),\n",
              " (')', ')'),\n",
              " ('and', 'CC'),\n",
              " ('postgraduate', 'NN'),\n",
              " ('(', '('),\n",
              " ('M.Sc', 'NNP'),\n",
              " ('.', '.'),\n",
              " ('IT', 'NNP'),\n",
              " (')', ')'),\n",
              " ('programmes', 'VBZ'),\n",
              " ('.', '.')]"
            ]
          },
          "metadata": {
            "tags": []
          },
          "execution_count": 14
        }
      ]
    },
    {
      "cell_type": "markdown",
      "metadata": {
        "id": "wxxii6KBLeeM"
      },
      "source": [
        "5. Display the parser tree for the Noun Phrase for the chunk derived in Q. 4 \n"
      ]
    },
    {
      "cell_type": "code",
      "metadata": {
        "colab": {
          "base_uri": "https://localhost:8080/"
        },
        "id": "w_0WAPFELrpB",
        "outputId": "5d22949f-e748-4ba0-ce5e-9dff5b9daa85"
      },
      "source": [
        "import nltk\n",
        "import string\n",
        "import re\n",
        "\n",
        "nltk.download(\"punkt\")\n",
        "nltk.download(\"averaged_perceptron_tagger\")"
      ],
      "execution_count": 15,
      "outputs": [
        {
          "output_type": "stream",
          "text": [
            "[nltk_data] Downloading package punkt to /root/nltk_data...\n",
            "[nltk_data]   Package punkt is already up-to-date!\n",
            "[nltk_data] Downloading package averaged_perceptron_tagger to\n",
            "[nltk_data]     /root/nltk_data...\n",
            "[nltk_data]   Package averaged_perceptron_tagger is already up-to-\n",
            "[nltk_data]       date!\n"
          ],
          "name": "stdout"
        },
        {
          "output_type": "execute_result",
          "data": {
            "text/plain": [
              "True"
            ]
          },
          "metadata": {
            "tags": []
          },
          "execution_count": 15
        }
      ]
    },
    {
      "cell_type": "code",
      "metadata": {
        "id": "K-CSfu2lM2BF"
      },
      "source": [
        "from nltk.tokenize import word_tokenize \n",
        "from nltk import pos_tag\n",
        "from nltk import RegexpParser\n"
      ],
      "execution_count": 16,
      "outputs": []
    },
    {
      "cell_type": "code",
      "metadata": {
        "id": "SOwyUbO1M1kO"
      },
      "source": [
        "#sentence = \"The Department offers both undergraduate (B.Sc. IT) and postgraduate (M.Sc. IT) programmes.\"\n",
        "\n",
        "#grammar = ('''\n",
        "#    NP: {<DT>?<JJ>*<NN>} # NP\n",
        "#    ''')\n",
        "\n",
        "#def chunking(text, grammar):\n",
        "   # word_tokens = word_tokenize(text)\n",
        "  \n",
        "    # label words with part of speech\n",
        "    #word_pos = pos_tag(word_tokens)\n",
        "  \n",
        "    # create a chunk parser using grammar\n",
        "    #chunkParser = nltk.RegexpParser(grammar)\n",
        "  \n",
        "    # test it on the list of word tokens with tagged pos\n",
        "#    tree = chunkParser.parse(word_pos)\n",
        "      \n",
        "#    for subtree in tree.subtrees():\n",
        "#        print(subtree)\n",
        "#    tree.draw()\n",
        "      \n",
        "#chunking(sentence, grammar)"
      ],
      "execution_count": 17,
      "outputs": []
    },
    {
      "cell_type": "markdown",
      "metadata": {
        "id": "yqvEadgsSyoT"
      },
      "source": [
        "![Dtree.png](data:image/png;base64,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)"
      ]
    },
    {
      "cell_type": "markdown",
      "metadata": {
        "id": "ShklL4a0HfuN"
      },
      "source": [
        "6. Get the Bag of words for the given text and display the word with its frequency"
      ]
    },
    {
      "cell_type": "code",
      "metadata": {
        "id": "3hw_Z13IGTNh"
      },
      "source": [
        "from keras.preprocessing.text import Tokenizer"
      ],
      "execution_count": 18,
      "outputs": []
    },
    {
      "cell_type": "code",
      "metadata": {
        "id": "6YynAQFkGTD5"
      },
      "source": [
        "text = [\n",
        "  'The Department of Information Technology at Ramniranjan Jhunjhunwala College',\n",
        "  'Ghatkopar Mumbai was established in 2007. The Department offers both undergraduate (B.Sc. IT) and postgraduate (M.Sc. IT) programmes.',\n",
        "  'The M.Sc IT programme was introduced in the year 2016.',\n",
        "]\n",
        "# using tokenizer \n",
        "model = Tokenizer()\n",
        "model.fit_on_texts(text)"
      ],
      "execution_count": 19,
      "outputs": []
    },
    {
      "cell_type": "code",
      "metadata": {
        "colab": {
          "base_uri": "https://localhost:8080/"
        },
        "id": "I9z8JYQCGSxy",
        "outputId": "79468f1d-de7f-44ef-ec18-1e91123f2f73"
      },
      "source": [
        "#print keys \n",
        "print(f'Key : {list(model.word_index.keys())}')\n",
        "\n",
        "#create bag of words representation \n",
        "rep = model.texts_to_matrix(text, mode='count')\n",
        "print(rep)"
      ],
      "execution_count": 20,
      "outputs": [
        {
          "output_type": "stream",
          "text": [
            "Key : ['the', 'sc', 'it', 'department', 'was', 'in', 'm', 'of', 'information', 'technology', 'at', 'ramniranjan', 'jhunjhunwala', 'college', 'ghatkopar', 'mumbai', 'established', '2007', 'offers', 'both', 'undergraduate', 'b', 'and', 'postgraduate', 'programmes', 'programme', 'introduced', 'year', '2016']\n",
            "[[0. 1. 0. 0. 1. 0. 0. 0. 1. 1. 1. 1. 1. 1. 1. 0. 0. 0. 0. 0. 0. 0. 0. 0.\n",
            "  0. 0. 0. 0. 0. 0.]\n",
            " [0. 1. 2. 2. 1. 1. 1. 1. 0. 0. 0. 0. 0. 0. 0. 1. 1. 1. 1. 1. 1. 1. 1. 1.\n",
            "  1. 1. 0. 0. 0. 0.]\n",
            " [0. 2. 1. 1. 0. 1. 1. 1. 0. 0. 0. 0. 0. 0. 0. 0. 0. 0. 0. 0. 0. 0. 0. 0.\n",
            "  0. 0. 1. 1. 1. 1.]]\n"
          ],
          "name": "stdout"
        }
      ]
    },
    {
      "cell_type": "code",
      "metadata": {
        "colab": {
          "base_uri": "https://localhost:8080/"
        },
        "id": "xS7yALAFOy06",
        "outputId": "40733513-883c-4cde-b170-ec72f06e64d7"
      },
      "source": [
        "import collections\n",
        "from collections import Counter\n",
        "\n",
        "import spacy\n",
        "nlp = spacy.load('en_core_web_sm')\n",
        "\n",
        "longtext='The Department of Information Technology at Ramniranjan Jhunjhunwala College, Ghatkopar, Mumbai was established in 2007. The Department offers both undergraduate (B.Sc. IT) and postgraduate (M.Sc. IT) programmes. The M.Sc IT programme was introduced in the year 2016.'\n",
        "\n",
        "long_text= nlp(longtext)\n",
        "\n",
        "list_of_tokens=[token.text for token in long_text if not token.is_stop and not token.is_punct]\n",
        "\n",
        "token_frequency=Counter(list_of_tokens)\n",
        "print(token_frequency)"
      ],
      "execution_count": 21,
      "outputs": [
        {
          "output_type": "stream",
          "text": [
            "Counter({'Department': 2, 'M.Sc': 2, 'Information': 1, 'Technology': 1, 'Ramniranjan': 1, 'Jhunjhunwala': 1, 'College': 1, 'Ghatkopar': 1, 'Mumbai': 1, 'established': 1, '2007': 1, 'offers': 1, 'undergraduate': 1, 'B.Sc': 1, 'postgraduate': 1, 'programmes': 1, 'programme': 1, 'introduced': 1, 'year': 1, '2016': 1})\n"
          ],
          "name": "stdout"
        }
      ]
    },
    {
      "cell_type": "markdown",
      "metadata": {
        "id": "Co2e8o0NPCK_"
      },
      "source": [
        "7. Remove the stop words from the BOW that is retrieved in Q. 6. "
      ]
    },
    {
      "cell_type": "code",
      "metadata": {
        "colab": {
          "base_uri": "https://localhost:8080/"
        },
        "id": "38R6oBnRPPse",
        "outputId": "bec3c70c-c0ed-4875-a8cd-3057d927c67b"
      },
      "source": [
        "import nltk\n",
        "nltk.download('stopwords')\n",
        "nltk.download('punkt')\n",
        "\n",
        "from nltk.corpus import stopwords \n",
        "from nltk.tokenize import word_tokenize"
      ],
      "execution_count": 22,
      "outputs": [
        {
          "output_type": "stream",
          "text": [
            "[nltk_data] Downloading package stopwords to /root/nltk_data...\n",
            "[nltk_data]   Package stopwords is already up-to-date!\n",
            "[nltk_data] Downloading package punkt to /root/nltk_data...\n",
            "[nltk_data]   Package punkt is already up-to-date!\n"
          ],
          "name": "stdout"
        }
      ]
    },
    {
      "cell_type": "code",
      "metadata": {
        "colab": {
          "base_uri": "https://localhost:8080/"
        },
        "id": "6Miva0WOPSQg",
        "outputId": "97ad69a9-8f48-4edf-836b-28d48d1c2150"
      },
      "source": [
        "example_sent = \"\"\"Counter({'Department': 2, 'M.Sc': 2, 'Information': 1, 'Technology': 1, 'Ramniranjan': 1, 'Jhunjhunwala': 1, 'College': 1, 'Ghatkopar': 1, 'Mumbai': 1, 'established': 1, '2007': 1, 'offers': 1, 'undergraduate': 1, 'B.Sc': 1, 'postgraduate': 1, 'programmes': 1, 'programme': 1, 'introduced': 1, 'year': 1, '2016': 1})\"\"\"\n",
        "  \n",
        "stop_words = set(stopwords.words('english')) \n",
        "  \n",
        "word_tokens = word_tokenize(example_sent) \n",
        "  \n",
        "filtered_sentence = [w for w in word_tokens if not w in stop_words] \n",
        "  \n",
        "filtered_sentence = [] \n",
        "  \n",
        "for w in word_tokens: \n",
        "    if w not in stop_words: \n",
        "        filtered_sentence.append(w) \n",
        "  \n",
        "print(word_tokens) \n",
        "print(filtered_sentence)"
      ],
      "execution_count": 23,
      "outputs": [
        {
          "output_type": "stream",
          "text": [
            "['Counter', '(', '{', \"'Department\", \"'\", ':', '2', ',', \"'M.Sc\", \"'\", ':', '2', ',', \"'Information\", \"'\", ':', '1', ',', \"'Technology\", \"'\", ':', '1', ',', \"'Ramniranjan\", \"'\", ':', '1', ',', \"'Jhunjhunwala\", \"'\", ':', '1', ',', \"'College\", \"'\", ':', '1', ',', \"'Ghatkopar\", \"'\", ':', '1', ',', \"'Mumbai\", \"'\", ':', '1', ',', \"'established\", \"'\", ':', '1', ',', \"'2007\", \"'\", ':', '1', ',', \"'offers\", \"'\", ':', '1', ',', \"'undergraduate\", \"'\", ':', '1', ',', \"'B.Sc\", \"'\", ':', '1', ',', \"'postgraduate\", \"'\", ':', '1', ',', \"'programmes\", \"'\", ':', '1', ',', \"'programme\", \"'\", ':', '1', ',', \"'introduced\", \"'\", ':', '1', ',', \"'year\", \"'\", ':', '1', ',', \"'2016\", \"'\", ':', '1', '}', ')']\n",
            "['Counter', '(', '{', \"'Department\", \"'\", ':', '2', ',', \"'M.Sc\", \"'\", ':', '2', ',', \"'Information\", \"'\", ':', '1', ',', \"'Technology\", \"'\", ':', '1', ',', \"'Ramniranjan\", \"'\", ':', '1', ',', \"'Jhunjhunwala\", \"'\", ':', '1', ',', \"'College\", \"'\", ':', '1', ',', \"'Ghatkopar\", \"'\", ':', '1', ',', \"'Mumbai\", \"'\", ':', '1', ',', \"'established\", \"'\", ':', '1', ',', \"'2007\", \"'\", ':', '1', ',', \"'offers\", \"'\", ':', '1', ',', \"'undergraduate\", \"'\", ':', '1', ',', \"'B.Sc\", \"'\", ':', '1', ',', \"'postgraduate\", \"'\", ':', '1', ',', \"'programmes\", \"'\", ':', '1', ',', \"'programme\", \"'\", ':', '1', ',', \"'introduced\", \"'\", ':', '1', ',', \"'year\", \"'\", ':', '1', ',', \"'2016\", \"'\", ':', '1', '}', ')']\n"
          ],
          "name": "stdout"
        }
      ]
    },
    {
      "cell_type": "markdown",
      "metadata": {
        "id": "5ZsJstmeP2JF"
      },
      "source": [
        "8. Stem the Words of Q. 7."
      ]
    },
    {
      "cell_type": "code",
      "metadata": {
        "id": "GoKq4IWHP37Q"
      },
      "source": [
        "from nltk.stem.porter import PorterStemmer\n",
        "from nltk.tokenize import word_tokenize\n",
        "stemmer = PorterStemmer()"
      ],
      "execution_count": 24,
      "outputs": []
    },
    {
      "cell_type": "code",
      "metadata": {
        "id": "ihIzGuXsQOQn"
      },
      "source": [
        "# stem words in the list of tokenised words\n",
        "def stem_words(text):\n",
        "    word_tokens = word_tokenize(text)\n",
        "    stems = [stemmer.stem(word) for word in word_tokens]\n",
        "    return stems"
      ],
      "execution_count": 25,
      "outputs": []
    },
    {
      "cell_type": "code",
      "metadata": {
        "id": "XgR7iYRDQj2L"
      },
      "source": [
        "text = 'The Department of Information Technology at Ramniranjan Jhunjhunwala College, Ghatkopar, Mumbai was established in 2007. The Department offers both undergraduate (B.Sc. IT) and postgraduate (M.Sc. IT) programmes. The M.Sc IT programme was introduced in the year 2016.'"
      ],
      "execution_count": 26,
      "outputs": []
    },
    {
      "cell_type": "code",
      "metadata": {
        "colab": {
          "base_uri": "https://localhost:8080/"
        },
        "id": "zpuxPwRRQ2TR",
        "outputId": "ff971ad5-aeeb-4550-a99a-28077a9b40e0"
      },
      "source": [
        "stem_words(text)"
      ],
      "execution_count": 27,
      "outputs": [
        {
          "output_type": "execute_result",
          "data": {
            "text/plain": [
              "['the',\n",
              " 'depart',\n",
              " 'of',\n",
              " 'inform',\n",
              " 'technolog',\n",
              " 'at',\n",
              " 'ramniranjan',\n",
              " 'jhunjhunwala',\n",
              " 'colleg',\n",
              " ',',\n",
              " 'ghatkopar',\n",
              " ',',\n",
              " 'mumbai',\n",
              " 'wa',\n",
              " 'establish',\n",
              " 'in',\n",
              " '2007',\n",
              " '.',\n",
              " 'the',\n",
              " 'depart',\n",
              " 'offer',\n",
              " 'both',\n",
              " 'undergradu',\n",
              " '(',\n",
              " 'b.sc',\n",
              " '.',\n",
              " 'IT',\n",
              " ')',\n",
              " 'and',\n",
              " 'postgradu',\n",
              " '(',\n",
              " 'm.sc',\n",
              " '.',\n",
              " 'IT',\n",
              " ')',\n",
              " 'programm',\n",
              " '.',\n",
              " 'the',\n",
              " 'm.sc',\n",
              " 'IT',\n",
              " 'programm',\n",
              " 'wa',\n",
              " 'introduc',\n",
              " 'in',\n",
              " 'the',\n",
              " 'year',\n",
              " '2016',\n",
              " '.']"
            ]
          },
          "metadata": {
            "tags": []
          },
          "execution_count": 27
        }
      ]
    },
    {
      "cell_type": "markdown",
      "metadata": {
        "id": "dEQwByJLFlpr"
      },
      "source": [
        "9. Find and display Lemma for the words that are retrieved in Q. 7 using lemmatization. "
      ]
    },
    {
      "cell_type": "code",
      "metadata": {
        "colab": {
          "base_uri": "https://localhost:8080/"
        },
        "id": "PMvCHNp6Flds",
        "outputId": "8ad30461-7f28-4b5d-9692-3c2b640a9ffc"
      },
      "source": [
        "import nltk\n",
        "nltk.download('all')"
      ],
      "execution_count": 28,
      "outputs": [
        {
          "output_type": "stream",
          "text": [
            "[nltk_data] Downloading collection 'all'\n",
            "[nltk_data]    | \n",
            "[nltk_data]    | Downloading package abc to /root/nltk_data...\n",
            "[nltk_data]    |   Package abc is already up-to-date!\n",
            "[nltk_data]    | Downloading package alpino to /root/nltk_data...\n",
            "[nltk_data]    |   Package alpino is already up-to-date!\n",
            "[nltk_data]    | Downloading package biocreative_ppi to\n",
            "[nltk_data]    |     /root/nltk_data...\n",
            "[nltk_data]    |   Package biocreative_ppi is already up-to-date!\n",
            "[nltk_data]    | Downloading package brown to /root/nltk_data...\n",
            "[nltk_data]    |   Package brown is already up-to-date!\n",
            "[nltk_data]    | Downloading package brown_tei to /root/nltk_data...\n",
            "[nltk_data]    |   Package brown_tei is already up-to-date!\n",
            "[nltk_data]    | Downloading package cess_cat to /root/nltk_data...\n",
            "[nltk_data]    |   Package cess_cat is already up-to-date!\n",
            "[nltk_data]    | Downloading package cess_esp to /root/nltk_data...\n",
            "[nltk_data]    |   Package cess_esp is already up-to-date!\n",
            "[nltk_data]    | Downloading package chat80 to /root/nltk_data...\n",
            "[nltk_data]    |   Package chat80 is already up-to-date!\n",
            "[nltk_data]    | Downloading package city_database to\n",
            "[nltk_data]    |     /root/nltk_data...\n",
            "[nltk_data]    |   Package city_database is already up-to-date!\n",
            "[nltk_data]    | Downloading package cmudict to /root/nltk_data...\n",
            "[nltk_data]    |   Package cmudict is already up-to-date!\n",
            "[nltk_data]    | Downloading package comparative_sentences to\n",
            "[nltk_data]    |     /root/nltk_data...\n",
            "[nltk_data]    |   Package comparative_sentences is already up-to-\n",
            "[nltk_data]    |       date!\n",
            "[nltk_data]    | Downloading package comtrans to /root/nltk_data...\n",
            "[nltk_data]    |   Package comtrans is already up-to-date!\n",
            "[nltk_data]    | Downloading package conll2000 to /root/nltk_data...\n",
            "[nltk_data]    |   Package conll2000 is already up-to-date!\n",
            "[nltk_data]    | Downloading package conll2002 to /root/nltk_data...\n",
            "[nltk_data]    |   Package conll2002 is already up-to-date!\n",
            "[nltk_data]    | Downloading package conll2007 to /root/nltk_data...\n",
            "[nltk_data]    |   Package conll2007 is already up-to-date!\n",
            "[nltk_data]    | Downloading package crubadan to /root/nltk_data...\n",
            "[nltk_data]    |   Package crubadan is already up-to-date!\n",
            "[nltk_data]    | Downloading package dependency_treebank to\n",
            "[nltk_data]    |     /root/nltk_data...\n",
            "[nltk_data]    |   Package dependency_treebank is already up-to-date!\n",
            "[nltk_data]    | Downloading package dolch to /root/nltk_data...\n",
            "[nltk_data]    |   Package dolch is already up-to-date!\n",
            "[nltk_data]    | Downloading package europarl_raw to\n",
            "[nltk_data]    |     /root/nltk_data...\n",
            "[nltk_data]    |   Package europarl_raw is already up-to-date!\n",
            "[nltk_data]    | Downloading package floresta to /root/nltk_data...\n",
            "[nltk_data]    |   Package floresta is already up-to-date!\n",
            "[nltk_data]    | Downloading package framenet_v15 to\n",
            "[nltk_data]    |     /root/nltk_data...\n",
            "[nltk_data]    |   Package framenet_v15 is already up-to-date!\n",
            "[nltk_data]    | Downloading package framenet_v17 to\n",
            "[nltk_data]    |     /root/nltk_data...\n",
            "[nltk_data]    |   Package framenet_v17 is already up-to-date!\n",
            "[nltk_data]    | Downloading package gazetteers to /root/nltk_data...\n",
            "[nltk_data]    |   Package gazetteers is already up-to-date!\n",
            "[nltk_data]    | Downloading package genesis to /root/nltk_data...\n",
            "[nltk_data]    |   Package genesis is already up-to-date!\n",
            "[nltk_data]    | Downloading package gutenberg to /root/nltk_data...\n",
            "[nltk_data]    |   Package gutenberg is already up-to-date!\n",
            "[nltk_data]    | Downloading package ieer to /root/nltk_data...\n",
            "[nltk_data]    |   Package ieer is already up-to-date!\n",
            "[nltk_data]    | Downloading package inaugural to /root/nltk_data...\n",
            "[nltk_data]    |   Package inaugural is already up-to-date!\n",
            "[nltk_data]    | Downloading package indian to /root/nltk_data...\n",
            "[nltk_data]    |   Package indian is already up-to-date!\n",
            "[nltk_data]    | Downloading package jeita to /root/nltk_data...\n",
            "[nltk_data]    |   Package jeita is already up-to-date!\n",
            "[nltk_data]    | Downloading package kimmo to /root/nltk_data...\n",
            "[nltk_data]    |   Package kimmo is already up-to-date!\n",
            "[nltk_data]    | Downloading package knbc to /root/nltk_data...\n",
            "[nltk_data]    |   Package knbc is already up-to-date!\n",
            "[nltk_data]    | Downloading package lin_thesaurus to\n",
            "[nltk_data]    |     /root/nltk_data...\n",
            "[nltk_data]    |   Package lin_thesaurus is already up-to-date!\n",
            "[nltk_data]    | Downloading package mac_morpho to /root/nltk_data...\n",
            "[nltk_data]    |   Package mac_morpho is already up-to-date!\n",
            "[nltk_data]    | Downloading package machado to /root/nltk_data...\n",
            "[nltk_data]    |   Package machado is already up-to-date!\n",
            "[nltk_data]    | Downloading package masc_tagged to /root/nltk_data...\n",
            "[nltk_data]    |   Package masc_tagged is already up-to-date!\n",
            "[nltk_data]    | Downloading package moses_sample to\n",
            "[nltk_data]    |     /root/nltk_data...\n",
            "[nltk_data]    |   Package moses_sample is already up-to-date!\n",
            "[nltk_data]    | Downloading package movie_reviews to\n",
            "[nltk_data]    |     /root/nltk_data...\n",
            "[nltk_data]    |   Package movie_reviews is already up-to-date!\n",
            "[nltk_data]    | Downloading package names to /root/nltk_data...\n",
            "[nltk_data]    |   Package names is already up-to-date!\n",
            "[nltk_data]    | Downloading package nombank.1.0 to /root/nltk_data...\n",
            "[nltk_data]    |   Package nombank.1.0 is already up-to-date!\n",
            "[nltk_data]    | Downloading package nps_chat to /root/nltk_data...\n",
            "[nltk_data]    |   Package nps_chat is already up-to-date!\n",
            "[nltk_data]    | Downloading package omw to /root/nltk_data...\n",
            "[nltk_data]    |   Package omw is already up-to-date!\n",
            "[nltk_data]    | Downloading package opinion_lexicon to\n",
            "[nltk_data]    |     /root/nltk_data...\n",
            "[nltk_data]    |   Package opinion_lexicon is already up-to-date!\n",
            "[nltk_data]    | Downloading package paradigms to /root/nltk_data...\n",
            "[nltk_data]    |   Package paradigms is already up-to-date!\n",
            "[nltk_data]    | Downloading package pil to /root/nltk_data...\n",
            "[nltk_data]    |   Package pil is already up-to-date!\n",
            "[nltk_data]    | Downloading package pl196x to /root/nltk_data...\n",
            "[nltk_data]    |   Package pl196x is already up-to-date!\n",
            "[nltk_data]    | Downloading package ppattach to /root/nltk_data...\n",
            "[nltk_data]    |   Package ppattach is already up-to-date!\n",
            "[nltk_data]    | Downloading package problem_reports to\n",
            "[nltk_data]    |     /root/nltk_data...\n",
            "[nltk_data]    |   Package problem_reports is already up-to-date!\n",
            "[nltk_data]    | Downloading package propbank to /root/nltk_data...\n",
            "[nltk_data]    |   Package propbank is already up-to-date!\n",
            "[nltk_data]    | Downloading package ptb to /root/nltk_data...\n",
            "[nltk_data]    |   Package ptb is already up-to-date!\n",
            "[nltk_data]    | Downloading package product_reviews_1 to\n",
            "[nltk_data]    |     /root/nltk_data...\n",
            "[nltk_data]    |   Package product_reviews_1 is already up-to-date!\n",
            "[nltk_data]    | Downloading package product_reviews_2 to\n",
            "[nltk_data]    |     /root/nltk_data...\n",
            "[nltk_data]    |   Package product_reviews_2 is already up-to-date!\n",
            "[nltk_data]    | Downloading package pros_cons to /root/nltk_data...\n",
            "[nltk_data]    |   Package pros_cons is already up-to-date!\n",
            "[nltk_data]    | Downloading package qc to /root/nltk_data...\n",
            "[nltk_data]    |   Package qc is already up-to-date!\n",
            "[nltk_data]    | Downloading package reuters to /root/nltk_data...\n",
            "[nltk_data]    |   Package reuters is already up-to-date!\n",
            "[nltk_data]    | Downloading package rte to /root/nltk_data...\n",
            "[nltk_data]    |   Package rte is already up-to-date!\n",
            "[nltk_data]    | Downloading package semcor to /root/nltk_data...\n",
            "[nltk_data]    |   Package semcor is already up-to-date!\n",
            "[nltk_data]    | Downloading package senseval to /root/nltk_data...\n",
            "[nltk_data]    |   Package senseval is already up-to-date!\n",
            "[nltk_data]    | Downloading package sentiwordnet to\n",
            "[nltk_data]    |     /root/nltk_data...\n",
            "[nltk_data]    |   Package sentiwordnet is already up-to-date!\n",
            "[nltk_data]    | Downloading package sentence_polarity to\n",
            "[nltk_data]    |     /root/nltk_data...\n",
            "[nltk_data]    |   Package sentence_polarity is already up-to-date!\n",
            "[nltk_data]    | Downloading package shakespeare to /root/nltk_data...\n",
            "[nltk_data]    |   Package shakespeare is already up-to-date!\n",
            "[nltk_data]    | Downloading package sinica_treebank to\n",
            "[nltk_data]    |     /root/nltk_data...\n",
            "[nltk_data]    |   Package sinica_treebank is already up-to-date!\n",
            "[nltk_data]    | Downloading package smultron to /root/nltk_data...\n",
            "[nltk_data]    |   Package smultron is already up-to-date!\n",
            "[nltk_data]    | Downloading package state_union to /root/nltk_data...\n",
            "[nltk_data]    |   Package state_union is already up-to-date!\n",
            "[nltk_data]    | Downloading package stopwords to /root/nltk_data...\n",
            "[nltk_data]    |   Package stopwords is already up-to-date!\n",
            "[nltk_data]    | Downloading package subjectivity to\n",
            "[nltk_data]    |     /root/nltk_data...\n",
            "[nltk_data]    |   Package subjectivity is already up-to-date!\n",
            "[nltk_data]    | Downloading package swadesh to /root/nltk_data...\n",
            "[nltk_data]    |   Package swadesh is already up-to-date!\n",
            "[nltk_data]    | Downloading package switchboard to /root/nltk_data...\n",
            "[nltk_data]    |   Package switchboard is already up-to-date!\n",
            "[nltk_data]    | Downloading package timit to /root/nltk_data...\n",
            "[nltk_data]    |   Package timit is already up-to-date!\n",
            "[nltk_data]    | Downloading package toolbox to /root/nltk_data...\n",
            "[nltk_data]    |   Package toolbox is already up-to-date!\n",
            "[nltk_data]    | Downloading package treebank to /root/nltk_data...\n",
            "[nltk_data]    |   Package treebank is already up-to-date!\n",
            "[nltk_data]    | Downloading package twitter_samples to\n",
            "[nltk_data]    |     /root/nltk_data...\n",
            "[nltk_data]    |   Package twitter_samples is already up-to-date!\n",
            "[nltk_data]    | Downloading package udhr to /root/nltk_data...\n",
            "[nltk_data]    |   Package udhr is already up-to-date!\n",
            "[nltk_data]    | Downloading package udhr2 to /root/nltk_data...\n",
            "[nltk_data]    |   Package udhr2 is already up-to-date!\n",
            "[nltk_data]    | Downloading package unicode_samples to\n",
            "[nltk_data]    |     /root/nltk_data...\n",
            "[nltk_data]    |   Package unicode_samples is already up-to-date!\n",
            "[nltk_data]    | Downloading package universal_treebanks_v20 to\n",
            "[nltk_data]    |     /root/nltk_data...\n",
            "[nltk_data]    |   Package universal_treebanks_v20 is already up-to-\n",
            "[nltk_data]    |       date!\n",
            "[nltk_data]    | Downloading package verbnet to /root/nltk_data...\n",
            "[nltk_data]    |   Package verbnet is already up-to-date!\n",
            "[nltk_data]    | Downloading package verbnet3 to /root/nltk_data...\n",
            "[nltk_data]    |   Package verbnet3 is already up-to-date!\n",
            "[nltk_data]    | Downloading package webtext to /root/nltk_data...\n",
            "[nltk_data]    |   Package webtext is already up-to-date!\n",
            "[nltk_data]    | Downloading package wordnet to /root/nltk_data...\n",
            "[nltk_data]    |   Package wordnet is already up-to-date!\n",
            "[nltk_data]    | Downloading package wordnet_ic to /root/nltk_data...\n",
            "[nltk_data]    |   Package wordnet_ic is already up-to-date!\n",
            "[nltk_data]    | Downloading package words to /root/nltk_data...\n",
            "[nltk_data]    |   Package words is already up-to-date!\n",
            "[nltk_data]    | Downloading package ycoe to /root/nltk_data...\n",
            "[nltk_data]    |   Package ycoe is already up-to-date!\n",
            "[nltk_data]    | Downloading package rslp to /root/nltk_data...\n",
            "[nltk_data]    |   Package rslp is already up-to-date!\n",
            "[nltk_data]    | Downloading package maxent_treebank_pos_tagger to\n",
            "[nltk_data]    |     /root/nltk_data...\n",
            "[nltk_data]    |   Package maxent_treebank_pos_tagger is already up-\n",
            "[nltk_data]    |       to-date!\n",
            "[nltk_data]    | Downloading package universal_tagset to\n",
            "[nltk_data]    |     /root/nltk_data...\n",
            "[nltk_data]    |   Package universal_tagset is already up-to-date!\n",
            "[nltk_data]    | Downloading package maxent_ne_chunker to\n",
            "[nltk_data]    |     /root/nltk_data...\n",
            "[nltk_data]    |   Package maxent_ne_chunker is already up-to-date!\n",
            "[nltk_data]    | Downloading package punkt to /root/nltk_data...\n",
            "[nltk_data]    |   Package punkt is already up-to-date!\n",
            "[nltk_data]    | Downloading package book_grammars to\n",
            "[nltk_data]    |     /root/nltk_data...\n",
            "[nltk_data]    |   Package book_grammars is already up-to-date!\n",
            "[nltk_data]    | Downloading package sample_grammars to\n",
            "[nltk_data]    |     /root/nltk_data...\n",
            "[nltk_data]    |   Package sample_grammars is already up-to-date!\n",
            "[nltk_data]    | Downloading package spanish_grammars to\n",
            "[nltk_data]    |     /root/nltk_data...\n",
            "[nltk_data]    |   Package spanish_grammars is already up-to-date!\n",
            "[nltk_data]    | Downloading package basque_grammars to\n",
            "[nltk_data]    |     /root/nltk_data...\n",
            "[nltk_data]    |   Package basque_grammars is already up-to-date!\n",
            "[nltk_data]    | Downloading package large_grammars to\n",
            "[nltk_data]    |     /root/nltk_data...\n",
            "[nltk_data]    |   Package large_grammars is already up-to-date!\n",
            "[nltk_data]    | Downloading package tagsets to /root/nltk_data...\n",
            "[nltk_data]    |   Package tagsets is already up-to-date!\n",
            "[nltk_data]    | Downloading package snowball_data to\n",
            "[nltk_data]    |     /root/nltk_data...\n",
            "[nltk_data]    |   Package snowball_data is already up-to-date!\n",
            "[nltk_data]    | Downloading package bllip_wsj_no_aux to\n",
            "[nltk_data]    |     /root/nltk_data...\n",
            "[nltk_data]    |   Package bllip_wsj_no_aux is already up-to-date!\n",
            "[nltk_data]    | Downloading package word2vec_sample to\n",
            "[nltk_data]    |     /root/nltk_data...\n",
            "[nltk_data]    |   Package word2vec_sample is already up-to-date!\n",
            "[nltk_data]    | Downloading package panlex_swadesh to\n",
            "[nltk_data]    |     /root/nltk_data...\n",
            "[nltk_data]    |   Package panlex_swadesh is already up-to-date!\n",
            "[nltk_data]    | Downloading package mte_teip5 to /root/nltk_data...\n",
            "[nltk_data]    |   Package mte_teip5 is already up-to-date!\n",
            "[nltk_data]    | Downloading package averaged_perceptron_tagger to\n",
            "[nltk_data]    |     /root/nltk_data...\n",
            "[nltk_data]    |   Package averaged_perceptron_tagger is already up-\n",
            "[nltk_data]    |       to-date!\n",
            "[nltk_data]    | Downloading package averaged_perceptron_tagger_ru to\n",
            "[nltk_data]    |     /root/nltk_data...\n",
            "[nltk_data]    |   Package averaged_perceptron_tagger_ru is already\n",
            "[nltk_data]    |       up-to-date!\n",
            "[nltk_data]    | Downloading package perluniprops to\n",
            "[nltk_data]    |     /root/nltk_data...\n",
            "[nltk_data]    |   Package perluniprops is already up-to-date!\n",
            "[nltk_data]    | Downloading package nonbreaking_prefixes to\n",
            "[nltk_data]    |     /root/nltk_data...\n",
            "[nltk_data]    |   Package nonbreaking_prefixes is already up-to-date!\n",
            "[nltk_data]    | Downloading package vader_lexicon to\n",
            "[nltk_data]    |     /root/nltk_data...\n",
            "[nltk_data]    |   Package vader_lexicon is already up-to-date!\n",
            "[nltk_data]    | Downloading package porter_test to /root/nltk_data...\n",
            "[nltk_data]    |   Package porter_test is already up-to-date!\n",
            "[nltk_data]    | Downloading package wmt15_eval to /root/nltk_data...\n",
            "[nltk_data]    |   Package wmt15_eval is already up-to-date!\n",
            "[nltk_data]    | Downloading package mwa_ppdb to /root/nltk_data...\n",
            "[nltk_data]    |   Package mwa_ppdb is already up-to-date!\n",
            "[nltk_data]    | \n",
            "[nltk_data]  Done downloading collection all\n"
          ],
          "name": "stdout"
        },
        {
          "output_type": "execute_result",
          "data": {
            "text/plain": [
              "True"
            ]
          },
          "metadata": {
            "tags": []
          },
          "execution_count": 28
        }
      ]
    },
    {
      "cell_type": "code",
      "metadata": {
        "id": "gpa1q3pDFlWr"
      },
      "source": [
        "from nltk.stem import WordNetLemmatizer\n",
        "from nltk.tokenize import word_tokenize"
      ],
      "execution_count": 29,
      "outputs": []
    },
    {
      "cell_type": "code",
      "metadata": {
        "id": "QMbXeB7JFlJs"
      },
      "source": [
        "lemmatizer = WordNetLemmatizer()"
      ],
      "execution_count": 30,
      "outputs": []
    },
    {
      "cell_type": "code",
      "metadata": {
        "id": "sygPMI8bRh1J"
      },
      "source": [
        "# lemmatize string\n",
        "def lemmatize_word(text):\n",
        "    word_tokens = word_tokenize(text)\n",
        "    # provide context i.e. part-of-speech\n",
        "    lemmas = [lemmatizer.lemmatize(word, pos ='v') for word in word_tokens]\n",
        "    return lemmas"
      ],
      "execution_count": 31,
      "outputs": []
    },
    {
      "cell_type": "code",
      "metadata": {
        "id": "N7s2BLobRmgv"
      },
      "source": [
        "text = 'The Department of Information Technology at Ramniranjan Jhunjhunwala College, Ghatkopar, Mumbai was established in 2007. The Department offers both undergraduate (B.Sc. IT) and postgraduate (M.Sc. IT) programmes. The M.Sc IT programme was introduced in the year 2016.'"
      ],
      "execution_count": 32,
      "outputs": []
    },
    {
      "cell_type": "code",
      "metadata": {
        "colab": {
          "base_uri": "https://localhost:8080/"
        },
        "id": "s7rFHyG5RytZ",
        "outputId": "a0e01dfa-438d-425b-fccb-c71fe7fbf167"
      },
      "source": [
        "lemmatize_word(text)"
      ],
      "execution_count": 33,
      "outputs": [
        {
          "output_type": "execute_result",
          "data": {
            "text/plain": [
              "['The',\n",
              " 'Department',\n",
              " 'of',\n",
              " 'Information',\n",
              " 'Technology',\n",
              " 'at',\n",
              " 'Ramniranjan',\n",
              " 'Jhunjhunwala',\n",
              " 'College',\n",
              " ',',\n",
              " 'Ghatkopar',\n",
              " ',',\n",
              " 'Mumbai',\n",
              " 'be',\n",
              " 'establish',\n",
              " 'in',\n",
              " '2007',\n",
              " '.',\n",
              " 'The',\n",
              " 'Department',\n",
              " 'offer',\n",
              " 'both',\n",
              " 'undergraduate',\n",
              " '(',\n",
              " 'B.Sc',\n",
              " '.',\n",
              " 'IT',\n",
              " ')',\n",
              " 'and',\n",
              " 'postgraduate',\n",
              " '(',\n",
              " 'M.Sc',\n",
              " '.',\n",
              " 'IT',\n",
              " ')',\n",
              " 'program',\n",
              " '.',\n",
              " 'The',\n",
              " 'M.Sc',\n",
              " 'IT',\n",
              " 'programme',\n",
              " 'be',\n",
              " 'introduce',\n",
              " 'in',\n",
              " 'the',\n",
              " 'year',\n",
              " '2016',\n",
              " '.']"
            ]
          },
          "metadata": {
            "tags": []
          },
          "execution_count": 33
        }
      ]
    },
    {
      "cell_type": "markdown",
      "metadata": {
        "id": "f3zShqdGCMA-"
      },
      "source": [
        "10.  Find the synonym and antonym of words ‘establish’ and ‘introduce’."
      ]
    },
    {
      "cell_type": "code",
      "metadata": {
        "colab": {
          "base_uri": "https://localhost:8080/"
        },
        "id": "eWxfP1-EDqca",
        "outputId": "585111a6-ac1e-4d0a-f05d-84d59e347cd7"
      },
      "source": [
        "import nltk\n",
        "nltk.download('wordnet')"
      ],
      "execution_count": 34,
      "outputs": [
        {
          "output_type": "stream",
          "text": [
            "[nltk_data] Downloading package wordnet to /root/nltk_data...\n",
            "[nltk_data]   Package wordnet is already up-to-date!\n"
          ],
          "name": "stdout"
        },
        {
          "output_type": "execute_result",
          "data": {
            "text/plain": [
              "True"
            ]
          },
          "metadata": {
            "tags": []
          },
          "execution_count": 34
        }
      ]
    },
    {
      "cell_type": "code",
      "metadata": {
        "colab": {
          "base_uri": "https://localhost:8080/"
        },
        "id": "__u-e9sBCLNv",
        "outputId": "21bcb048-eb19-4694-a349-acba4920deba"
      },
      "source": [
        "import nltk\n",
        "from nltk.corpus import wordnet\n",
        "synonyms = []\n",
        "antonyms = []\n",
        "  \n",
        "for syn in wordnet.synsets(\"establish\"):\n",
        "    for l in syn.lemmas():\n",
        "        synonyms.append(l.name())\n",
        "        if l.antonyms():\n",
        "            antonyms.append(l.antonyms()[0].name())\n",
        "  \n",
        "print(set(synonyms))\n",
        "print(set(antonyms))"
      ],
      "execution_count": 35,
      "outputs": [
        {
          "output_type": "stream",
          "text": [
            "{'prove', 'make', 'found', 'establish', 'launch', 'build', 'give', 'ground', 'institute', 'base', 'lay_down', 'plant', 'instal', 'demonstrate', 'constitute', 'set_up', 'shew', 'install', 'show'}\n",
            "{'abolish', 'disprove'}\n"
          ],
          "name": "stdout"
        }
      ]
    },
    {
      "cell_type": "code",
      "metadata": {
        "colab": {
          "base_uri": "https://localhost:8080/"
        },
        "id": "_LRzkJWBE8KC",
        "outputId": "263c4dbd-08e5-4a8a-8a47-b0d2c354a3b7"
      },
      "source": [
        "import nltk\n",
        "from nltk.corpus import wordnet\n",
        "synonyms = []\n",
        "antonyms = []\n",
        "  \n",
        "for syn in wordnet.synsets(\"introduce\"):\n",
        "    for l in syn.lemmas():\n",
        "        synonyms.append(l.name())\n",
        "        if l.antonyms():\n",
        "            antonyms.append(l.antonyms()[0].name())\n",
        "  \n",
        "print(set(synonyms))\n",
        "print(set(antonyms))"
      ],
      "execution_count": 36,
      "outputs": [
        {
          "output_type": "stream",
          "text": [
            "{'bring_in', 'precede', 'stick_in', 'put_in', 'introduce', 'inclose', 'enter', 'infix', 'premise', 'usher_in', 'preface', 'inaugurate', 'enclose', 'innovate', 'bring_out', 'present', 'insert', 'acquaint'}\n",
            "set()\n"
          ],
          "name": "stdout"
        }
      ]
    }
  ]
}